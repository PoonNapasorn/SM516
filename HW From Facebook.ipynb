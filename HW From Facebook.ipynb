{
 "cells": [
  {
   "cell_type": "markdown",
   "metadata": {},
   "source": [
    "<img src=\"รูป HW from facebook/888.jpg\" width=400 align=\"middle\">\n"
   ]
  },
  {
   "cell_type": "markdown",
   "metadata": {},
   "source": [
    "<div align=\"right\"><br>นภสร เบญจศิริลักษณ์<br>5905106042<br>วิศวกรรมการเงิน มกค."
   ]
  },
  {
   "cell_type": "markdown",
   "metadata": {},
   "source": [
    "## How to Use sorted() and sort() in Python"
   ]
  },
  {
   "cell_type": "code",
   "execution_count": 30,
   "metadata": {},
   "outputs": [
    {
     "data": {
      "text/plain": [
       "[1, 3, 6, 9]"
      ]
     },
     "execution_count": 30,
     "metadata": {},
     "output_type": "execute_result"
    }
   ],
   "source": [
    "#สามารถใช้ Python เพื่อเรียงลำดับตัวเลขโดยใช้ sort () ในตัวอย่างนี้จะมีการกำหนดรายการจำนวนเต็มเพื่อเรียงลำดับ\n",
    ">>> numbers = [6, 9, 3, 1]\n",
    ">>> sorted (numbers)"
   ]
  },
  {
   "cell_type": "code",
   "execution_count": 29,
   "metadata": {},
   "outputs": [
    {
     "data": {
      "text/plain": [
       "[1, 3, 6, 9]"
      ]
     },
     "execution_count": 29,
     "metadata": {},
     "output_type": "execute_result"
    }
   ],
   "source": [
    "#ถ้าเราทำการกำหนด numbers_sorted เเล้ว เราจะสามารถได้ค่าเดียวกับค่า sorted(numbers)\n",
    ">>> numbers = [6, 9, 3, 1]\n",
    ">>> numbers_sorted = sorted(numbers)\n",
    ">>> numbers_sorted"
   ]
  },
  {
   "cell_type": "code",
   "execution_count": 19,
   "metadata": {},
   "outputs": [
    {
     "data": {
      "text/plain": [
       "[1, 3, 6, 9]"
      ]
     },
     "execution_count": 19,
     "metadata": {},
     "output_type": "execute_result"
    }
   ],
   "source": [
    "#sort () สามารถใช้กับ tuples และตั้งค่าได้คล้ายกับตัวอย่างด้านบน\n",
    ">>> numbers_tuple = (6, 9, 3, 1)\n",
    ">>> numbers_set = {5, 5, 10, 1, 0}\n",
    ">>> numbers_tuple_sorted = sorted(numbers_tuple)\n",
    ">>> numbers_set_sorted = sorted(numbers_set)\n",
    ">>> numbers_tuple_sorted\n",
    "\n"
   ]
  },
  {
   "cell_type": "code",
   "execution_count": 9,
   "metadata": {},
   "outputs": [
    {
     "data": {
      "text/plain": [
       "[0, 1, 5, 10]"
      ]
     },
     "execution_count": 9,
     "metadata": {},
     "output_type": "execute_result"
    }
   ],
   "source": [
    "#ถ้ามีค่าซ้ำกันการ sort จะนำตัวที่ซ้ำมาตัวเดียว\n",
    ">>> numbers_set_sorted"
   ]
  },
  {
   "cell_type": "code",
   "execution_count": 19,
   "metadata": {},
   "outputs": [
    {
     "data": {
      "text/plain": [
       "(1, 3, 6, 9)"
      ]
     },
     "execution_count": 19,
     "metadata": {},
     "output_type": "execute_result"
    }
   ],
   "source": [
    "#เรียกค่า Tuple จากคำสั่งเดิมจะได้ค่าเดิม\n",
    ">>> tuple(numbers_tuple_sorted)"
   ]
  },
  {
   "cell_type": "code",
   "execution_count": 20,
   "metadata": {},
   "outputs": [
    {
     "data": {
      "text/plain": [
       "{0, 1, 5, 10}"
      ]
     },
     "execution_count": 20,
     "metadata": {},
     "output_type": "execute_result"
    }
   ],
   "source": [
    "#เรียกค่า set จากคำสั่งเดิมจะได้ค่าเดิม\n",
    ">>> set(numbers_set_sorted)"
   ]
  },
  {
   "cell_type": "markdown",
   "metadata": {},
   "source": [
    "## Sorting Strings"
   ]
  },
  {
   "cell_type": "code",
   "execution_count": 33,
   "metadata": {},
   "outputs": [
    {
     "data": {
      "text/plain": [
       "['1', '2', '3', '4', '5']"
      ]
     },
     "execution_count": 33,
     "metadata": {},
     "output_type": "execute_result"
    }
   ],
   "source": [
    "#ประเภท strings จัดเรียงคล้ายกับ iterables อื่น ๆ เช่น list และ tuple ตัวอย่างด้านล่างแสดงวิธีการเรียงลำดับ () วนซ้ำผ่านแต่ละอักขระในค่าที่ส่งผ่านไปและเรียงลำดับในเอาต์พุต:\n",
    ">>> string_number_value = '34521'\n",
    ">>> string_value = 'I like to sort'\n",
    ">>> sorted_string_number = sorted(string_number_value)\n",
    ">>> sorted_string = sorted(string_value)\n",
    ">>> sorted_string_number"
   ]
  },
  {
   "cell_type": "code",
   "execution_count": 34,
   "metadata": {},
   "outputs": [
    {
     "data": {
      "text/plain": [
       "[' ', ' ', ' ', 'I', 'e', 'i', 'k', 'l', 'o', 'o', 'r', 's', 't', 't']"
      ]
     },
     "execution_count": 34,
     "metadata": {},
     "output_type": "execute_result"
    }
   ],
   "source": [
    "#เรียกลำดับ String โดยตัวซ้ำจะถูกตัดออกเหลือเพียงเเค่ตัวเดียว\n",
    ">>> sorted_string"
   ]
  },
  {
   "cell_type": "code",
   "execution_count": 35,
   "metadata": {},
   "outputs": [
    {
     "data": {
      "text/plain": [
       "['I', 'like', 'sort', 'to']"
      ]
     },
     "execution_count": 35,
     "metadata": {},
     "output_type": "execute_result"
    }
   ],
   "source": [
    "#.split () สามารถเปลี่ยนและล้างข้อมูลผลลัพธ์\n",
    ">>> string_value = 'I like to sort'\n",
    ">>> sorted_string = sorted(string_value.split())\n",
    ">>> sorted_string"
   ]
  },
  {
   "cell_type": "code",
   "execution_count": 36,
   "metadata": {},
   "outputs": [
    {
     "data": {
      "text/plain": [
       "'I like sort to'"
      ]
     },
     "execution_count": 36,
     "metadata": {},
     "output_type": "execute_result"
    }
   ],
   "source": [
    "#  join () สามารถนำมันกลับมารวมกันได้ \n",
    ">>> ' '.join(sorted_string)"
   ]
  }
 ],
 "metadata": {
  "kernelspec": {
   "display_name": "Python 3",
   "language": "python",
   "name": "python3"
  },
  "language_info": {
   "codemirror_mode": {
    "name": "ipython",
    "version": 3
   },
   "file_extension": ".py",
   "mimetype": "text/x-python",
   "name": "python",
   "nbconvert_exporter": "python",
   "pygments_lexer": "ipython3",
   "version": "3.8.1"
  }
 },
 "nbformat": 4,
 "nbformat_minor": 2
}
